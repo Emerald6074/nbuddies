{
 "cells": [
  {
   "cell_type": "code",
   "execution_count": null,
   "id": "b4cb3013",
   "metadata": {},
   "outputs": [],
   "source": [
    "#model evolution of particles under gravity and visualize the results\n",
    "#check that energy/angular momentum is conserved and check against analytic solution (N=2) and convergence tests \n",
    "#Aarseth n-body dynamics textbook and binney tremaine galactic dynamics\n",
    "#set up initial positions of the black holes \n",
    "#1. measure intensity / gravitational force \n",
    "#2. Evolve BHs / timestep \n",
    "#(while loop 1 and 2)\n",
    "#3. Save the particles\n",
    "#4. Visualize them\n",
    "# task before friday: list of functions, list of inputs, and list of outputs... wee are working with cluster/vaccuum conditions\n",
    "\n",
    "#Assumptions: BHs are NOT rotating and they are entirely isolated (no dark matter/stellar interactions)"
   ]
  },
  {
   "cell_type": "code",
   "execution_count": null,
   "id": "a8bd127e",
   "metadata": {},
   "outputs": [],
   "source": [
    "'''\n",
    "assumptions: isolated, and BHs are NOT rotating\n",
    "\n",
    "Inputs: \n",
    "N = number of BHs\n",
    "min mass value = 10^8\n",
    "max mass value = 10^11\n",
    "\n",
    "Function 1: main calculations to take in inputs and return the distance between BHs and size of the cluster\n",
    "mass = normal distribution of masses ( from the range from min max value to max mass value) for N black holes to get an array\n",
    "speed: we want to use the maxwell boltzman distribution to obtain the speed of the BHs (this distribution relies on the assumption \n",
    "of non-interacting particles)\n",
    "radius: R = GM/c^2 \n",
    "density: rho = 3M/(4pi*R^3) \n",
    "obtain max radius of the BH itself = r, max diameter is d (2r)\n",
    "obtain distance between two orbiting (non-merging and non-escaping) BHs which is D\n",
    "size of the cluster: D * (N - 1) + N * d: basically we want the size of the cluster that would satisfy the most massive \n",
    "\n",
    "Function 2: takes in the distance between BHs size of the cluster and returns the initial positions of each BH\n",
    "we want to use a normal distribution for the positions \n",
    "    Criteria: \n",
    "    -each BH starts off a distance of D apart from one another\n",
    "    -all BHs start off inside of the cluster\n",
    "\n",
    "When the simulation starts, each BH will be given the speed determined above.\n",
    "BHs that leave the cluster are no longer considered part of the system. \n",
    "'''"
   ]
  },
  {
   "cell_type": "code",
   "execution_count": null,
   "id": "866c2d95",
   "metadata": {},
   "outputs": [],
   "source": [
    "'''\n",
    "assumptions: isolated, and BHs are NOT rotating\n",
    "\n",
    "Inputs: \n",
    "N = number of BHs\n",
    "min mass value = 10^8 Mo\n",
    "max mass value = 10^11 Mo\n",
    "\n",
    "Function 1: main calculations to take in inputs and return the distance between BHs and size of the cluster\n",
    "mass = normal distribution of masses ( from the range from min max value to max mass value) for N black holes to get an array\n",
    "speed: we want to use the maxwell boltzman distribution to obtain the speed of the BHs (this distribution relies on the assumption \n",
    "of non-interacting particles)\n",
    "obtain distance between two orbiting (non-merging and non-escaping) BHs which is D\n",
    "size of the cluster: D * (N - 1): basically we want the size of the cluster that would satisfy the most massive \n",
    "\n",
    "Function 2: takes in the distance between BHs size of the cluster and returns the initial positions of each BH\n",
    "we want to use a normal distribution for the positions \n",
    "    Criteria: \n",
    "    -each BH starts off a distance of D apart from one another\n",
    "    -all BHs start off inside of the cluster\n",
    "\n",
    "When the simulation starts, each BH will be given the speed determined above.\n",
    "BHs that leave the cluster are no longer considered part of the system. \n",
    "'''"
   ]
  }
 ],
 "metadata": {
  "language_info": {
   "name": "python"
  }
 },
 "nbformat": 4,
 "nbformat_minor": 5
}
